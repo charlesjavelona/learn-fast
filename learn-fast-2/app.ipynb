{
 "cells": [
  {
   "cell_type": "code",
   "execution_count": 1,
   "id": "f272f330",
   "metadata": {},
   "outputs": [],
   "source": [
    "#|default_axp app"
   ]
  },
  {
   "cell_type": "code",
   "execution_count": 1,
   "id": "3a393d9a",
   "metadata": {},
   "outputs": [
    {
     "name": "stdout",
     "output_type": "stream",
     "text": [
      "Requirement already satisfied: gradio in /home/charlesjavelona/mambaforge/envs/learn-fast/lib/python3.11/site-packages (3.27.0)\n",
      "Requirement already satisfied: aiofiles in /home/charlesjavelona/mambaforge/envs/learn-fast/lib/python3.11/site-packages (from gradio) (23.1.0)\n",
      "Requirement already satisfied: aiohttp in /home/charlesjavelona/mambaforge/envs/learn-fast/lib/python3.11/site-packages (from gradio) (3.8.4)\n",
      "Requirement already satisfied: altair>=4.2.0 in /home/charlesjavelona/mambaforge/envs/learn-fast/lib/python3.11/site-packages (from gradio) (4.2.2)\n",
      "Requirement already satisfied: fastapi in /home/charlesjavelona/mambaforge/envs/learn-fast/lib/python3.11/site-packages (from gradio) (0.95.1)\n",
      "Requirement already satisfied: ffmpy in /home/charlesjavelona/mambaforge/envs/learn-fast/lib/python3.11/site-packages (from gradio) (0.3.0)\n",
      "Requirement already satisfied: gradio-client>=0.1.3 in /home/charlesjavelona/mambaforge/envs/learn-fast/lib/python3.11/site-packages (from gradio) (0.1.3)\n",
      "Requirement already satisfied: httpx in /home/charlesjavelona/mambaforge/envs/learn-fast/lib/python3.11/site-packages (from gradio) (0.24.0)\n",
      "Requirement already satisfied: huggingface-hub>=0.13.0 in /home/charlesjavelona/mambaforge/envs/learn-fast/lib/python3.11/site-packages (from gradio) (0.13.4)\n",
      "Requirement already satisfied: jinja2 in /home/charlesjavelona/mambaforge/envs/learn-fast/lib/python3.11/site-packages (from gradio) (3.1.2)\n",
      "Requirement already satisfied: markdown-it-py[linkify]>=2.0.0 in /home/charlesjavelona/mambaforge/envs/learn-fast/lib/python3.11/site-packages (from gradio) (2.2.0)\n",
      "Requirement already satisfied: markupsafe in /home/charlesjavelona/mambaforge/envs/learn-fast/lib/python3.11/site-packages (from gradio) (2.1.2)\n",
      "Requirement already satisfied: matplotlib in /home/charlesjavelona/mambaforge/envs/learn-fast/lib/python3.11/site-packages (from gradio) (3.7.1)\n",
      "Requirement already satisfied: mdit-py-plugins<=0.3.3 in /home/charlesjavelona/mambaforge/envs/learn-fast/lib/python3.11/site-packages (from gradio) (0.3.3)\n",
      "Requirement already satisfied: numpy in /home/charlesjavelona/mambaforge/envs/learn-fast/lib/python3.11/site-packages (from gradio) (1.24.2)\n",
      "Requirement already satisfied: orjson in /home/charlesjavelona/mambaforge/envs/learn-fast/lib/python3.11/site-packages (from gradio) (3.8.10)\n",
      "Requirement already satisfied: pandas in /home/charlesjavelona/mambaforge/envs/learn-fast/lib/python3.11/site-packages (from gradio) (2.0.0)\n",
      "Requirement already satisfied: pillow in /home/charlesjavelona/mambaforge/envs/learn-fast/lib/python3.11/site-packages (from gradio) (9.5.0)\n",
      "Requirement already satisfied: pydantic in /home/charlesjavelona/mambaforge/envs/learn-fast/lib/python3.11/site-packages (from gradio) (1.10.7)\n",
      "Requirement already satisfied: pydub in /home/charlesjavelona/mambaforge/envs/learn-fast/lib/python3.11/site-packages (from gradio) (0.25.1)\n",
      "Requirement already satisfied: python-multipart in /home/charlesjavelona/mambaforge/envs/learn-fast/lib/python3.11/site-packages (from gradio) (0.0.6)\n",
      "Requirement already satisfied: pyyaml in /home/charlesjavelona/mambaforge/envs/learn-fast/lib/python3.11/site-packages (from gradio) (6.0)\n",
      "Requirement already satisfied: requests in /home/charlesjavelona/mambaforge/envs/learn-fast/lib/python3.11/site-packages (from gradio) (2.28.2)\n",
      "Requirement already satisfied: semantic-version in /home/charlesjavelona/mambaforge/envs/learn-fast/lib/python3.11/site-packages (from gradio) (2.10.0)\n",
      "Requirement already satisfied: typing-extensions in /home/charlesjavelona/mambaforge/envs/learn-fast/lib/python3.11/site-packages (from gradio) (4.5.0)\n",
      "Requirement already satisfied: uvicorn in /home/charlesjavelona/mambaforge/envs/learn-fast/lib/python3.11/site-packages (from gradio) (0.21.1)\n",
      "Requirement already satisfied: websockets>=10.0 in /home/charlesjavelona/mambaforge/envs/learn-fast/lib/python3.11/site-packages (from gradio) (11.0.2)\n",
      "Requirement already satisfied: entrypoints in /home/charlesjavelona/mambaforge/envs/learn-fast/lib/python3.11/site-packages (from altair>=4.2.0->gradio) (0.4)\n",
      "Requirement already satisfied: jsonschema>=3.0 in /home/charlesjavelona/mambaforge/envs/learn-fast/lib/python3.11/site-packages (from altair>=4.2.0->gradio) (4.17.3)\n",
      "Requirement already satisfied: toolz in /home/charlesjavelona/mambaforge/envs/learn-fast/lib/python3.11/site-packages (from altair>=4.2.0->gradio) (0.12.0)\n",
      "Requirement already satisfied: fsspec in /home/charlesjavelona/mambaforge/envs/learn-fast/lib/python3.11/site-packages (from gradio-client>=0.1.3->gradio) (2023.4.0)\n",
      "Requirement already satisfied: packaging in /home/charlesjavelona/mambaforge/envs/learn-fast/lib/python3.11/site-packages (from gradio-client>=0.1.3->gradio) (23.1)\n",
      "Requirement already satisfied: filelock in /home/charlesjavelona/mambaforge/envs/learn-fast/lib/python3.11/site-packages (from huggingface-hub>=0.13.0->gradio) (3.12.0)\n",
      "Requirement already satisfied: tqdm>=4.42.1 in /home/charlesjavelona/mambaforge/envs/learn-fast/lib/python3.11/site-packages (from huggingface-hub>=0.13.0->gradio) (4.65.0)\n",
      "Requirement already satisfied: mdurl~=0.1 in /home/charlesjavelona/mambaforge/envs/learn-fast/lib/python3.11/site-packages (from markdown-it-py[linkify]>=2.0.0->gradio) (0.1.2)\n",
      "Requirement already satisfied: linkify-it-py<3,>=1 in /home/charlesjavelona/mambaforge/envs/learn-fast/lib/python3.11/site-packages (from markdown-it-py[linkify]>=2.0.0->gradio) (2.0.0)\n",
      "Requirement already satisfied: python-dateutil>=2.8.2 in /home/charlesjavelona/mambaforge/envs/learn-fast/lib/python3.11/site-packages (from pandas->gradio) (2.8.2)\n",
      "Requirement already satisfied: pytz>=2020.1 in /home/charlesjavelona/mambaforge/envs/learn-fast/lib/python3.11/site-packages (from pandas->gradio) (2023.3)\n",
      "Requirement already satisfied: tzdata>=2022.1 in /home/charlesjavelona/mambaforge/envs/learn-fast/lib/python3.11/site-packages (from pandas->gradio) (2023.3)\n",
      "Requirement already satisfied: attrs>=17.3.0 in /home/charlesjavelona/mambaforge/envs/learn-fast/lib/python3.11/site-packages (from aiohttp->gradio) (22.2.0)\n",
      "Requirement already satisfied: charset-normalizer<4.0,>=2.0 in /home/charlesjavelona/mambaforge/envs/learn-fast/lib/python3.11/site-packages (from aiohttp->gradio) (3.1.0)\n",
      "Requirement already satisfied: multidict<7.0,>=4.5 in /home/charlesjavelona/mambaforge/envs/learn-fast/lib/python3.11/site-packages (from aiohttp->gradio) (6.0.4)\n",
      "Requirement already satisfied: async-timeout<5.0,>=4.0.0a3 in /home/charlesjavelona/mambaforge/envs/learn-fast/lib/python3.11/site-packages (from aiohttp->gradio) (4.0.2)\n",
      "Requirement already satisfied: yarl<2.0,>=1.0 in /home/charlesjavelona/mambaforge/envs/learn-fast/lib/python3.11/site-packages (from aiohttp->gradio) (1.9.1)\n",
      "Requirement already satisfied: frozenlist>=1.1.1 in /home/charlesjavelona/mambaforge/envs/learn-fast/lib/python3.11/site-packages (from aiohttp->gradio) (1.3.3)\n",
      "Requirement already satisfied: aiosignal>=1.1.2 in /home/charlesjavelona/mambaforge/envs/learn-fast/lib/python3.11/site-packages (from aiohttp->gradio) (1.3.1)\n",
      "Requirement already satisfied: starlette<0.27.0,>=0.26.1 in /home/charlesjavelona/mambaforge/envs/learn-fast/lib/python3.11/site-packages (from fastapi->gradio) (0.26.1)\n",
      "Requirement already satisfied: certifi in /home/charlesjavelona/mambaforge/envs/learn-fast/lib/python3.11/site-packages (from httpx->gradio) (2022.12.7)\n",
      "Requirement already satisfied: httpcore<0.18.0,>=0.15.0 in /home/charlesjavelona/mambaforge/envs/learn-fast/lib/python3.11/site-packages (from httpx->gradio) (0.17.0)\n",
      "Requirement already satisfied: idna in /home/charlesjavelona/mambaforge/envs/learn-fast/lib/python3.11/site-packages (from httpx->gradio) (3.4)\n",
      "Requirement already satisfied: sniffio in /home/charlesjavelona/mambaforge/envs/learn-fast/lib/python3.11/site-packages (from httpx->gradio) (1.3.0)\n",
      "Requirement already satisfied: contourpy>=1.0.1 in /home/charlesjavelona/mambaforge/envs/learn-fast/lib/python3.11/site-packages (from matplotlib->gradio) (1.0.7)\n",
      "Requirement already satisfied: cycler>=0.10 in /home/charlesjavelona/mambaforge/envs/learn-fast/lib/python3.11/site-packages (from matplotlib->gradio) (0.11.0)\n",
      "Requirement already satisfied: fonttools>=4.22.0 in /home/charlesjavelona/mambaforge/envs/learn-fast/lib/python3.11/site-packages (from matplotlib->gradio) (4.39.3)\n",
      "Requirement already satisfied: kiwisolver>=1.0.1 in /home/charlesjavelona/mambaforge/envs/learn-fast/lib/python3.11/site-packages (from matplotlib->gradio) (1.4.4)\n",
      "Requirement already satisfied: pyparsing>=2.3.1 in /home/charlesjavelona/mambaforge/envs/learn-fast/lib/python3.11/site-packages (from matplotlib->gradio) (3.0.9)\n"
     ]
    },
    {
     "name": "stdout",
     "output_type": "stream",
     "text": [
      "Requirement already satisfied: urllib3<1.27,>=1.21.1 in /home/charlesjavelona/mambaforge/envs/learn-fast/lib/python3.11/site-packages (from requests->gradio) (1.26.15)\n",
      "Requirement already satisfied: click>=7.0 in /home/charlesjavelona/mambaforge/envs/learn-fast/lib/python3.11/site-packages (from uvicorn->gradio) (8.1.3)\n",
      "Requirement already satisfied: h11>=0.8 in /home/charlesjavelona/mambaforge/envs/learn-fast/lib/python3.11/site-packages (from uvicorn->gradio) (0.14.0)\n",
      "Requirement already satisfied: anyio<5.0,>=3.0 in /home/charlesjavelona/mambaforge/envs/learn-fast/lib/python3.11/site-packages (from httpcore<0.18.0,>=0.15.0->httpx->gradio) (3.6.2)\n",
      "Requirement already satisfied: pyrsistent!=0.17.0,!=0.17.1,!=0.17.2,>=0.14.0 in /home/charlesjavelona/mambaforge/envs/learn-fast/lib/python3.11/site-packages (from jsonschema>=3.0->altair>=4.2.0->gradio) (0.19.3)\n",
      "Requirement already satisfied: uc-micro-py in /home/charlesjavelona/mambaforge/envs/learn-fast/lib/python3.11/site-packages (from linkify-it-py<3,>=1->markdown-it-py[linkify]>=2.0.0->gradio) (1.0.1)\n",
      "Requirement already satisfied: six>=1.5 in /home/charlesjavelona/mambaforge/envs/learn-fast/lib/python3.11/site-packages (from python-dateutil>=2.8.2->pandas->gradio) (1.16.0)\n"
     ]
    }
   ],
   "source": [
    "!pip install -Uqq fastai\n",
    "!pip install gradio"
   ]
  },
  {
   "cell_type": "code",
   "execution_count": 2,
   "id": "92d2631b",
   "metadata": {},
   "outputs": [],
   "source": [
    "#|export\n",
    "from fastai.vision.all import *\n",
    "import gradio as gr\n",
    "\n",
    "def is_cat(x): return x[0].isupper()"
   ]
  },
  {
   "cell_type": "code",
   "execution_count": 24,
   "id": "7f16f4d6",
   "metadata": {},
   "outputs": [
    {
     "data": {
      "image/png": "[encoded data removed]",
      "text/plain": [
       "PILImage mode=RGB size=192x156"
      ]
     },
     "execution_count": 24,
     "metadata": {},
     "output_type": "execute_result"
    }
   ],
   "source": [
    "image = PILImage.create('cat.jpg')\n",
    "image.thumbnail((192, 192))\n",
    "image"
   ]
  },
  {
   "cell_type": "code",
   "execution_count": 13,
   "id": "cbc9a570",
   "metadata": {},
   "outputs": [],
   "source": [
    "#|export\n",
    "learn = load_learner('model.pkl')"
   ]
  },
  {
   "cell_type": "code",
   "execution_count": 25,
   "id": "0c747c74",
   "metadata": {},
   "outputs": [
    {
     "data": {
      "text/html": [
       "\n",
       "<style>\n",
       "    /* Turns off some styling */\n",
       "    progress {\n",
       "        /* gets rid of default border in Firefox and Opera. */\n",
       "        border: none;\n",
       "        /* Needs to be in here for Safari polyfill so background images work as expected. */\n",
       "        background-size: auto;\n",
       "    }\n",
       "    progress:not([value]), progress:not([value])::-webkit-progress-bar {\n",
       "        background: repeating-linear-gradient(45deg, #7e7e7e, #7e7e7e 10px, #5c5c5c 10px, #5c5c5c 20px);\n",
       "    }\n",
       "    .progress-bar-interrupted, .progress-bar-interrupted::-webkit-progress-bar {\n",
       "        background: #F44336;\n",
       "    }\n",
       "</style>\n"
      ],
      "text/plain": [
       "<IPython.core.display.HTML object>"
      ]
     },
     "metadata": {},
     "output_type": "display_data"
    },
    {
     "data": {
      "text/html": [],
      "text/plain": [
       "<IPython.core.display.HTML object>"
      ]
     },
     "metadata": {},
     "output_type": "display_data"
    },
    {
     "data": {
      "text/plain": [
       "('True', TensorImage(1), TensorImage([3.2038e-16, 1.0000e+00]))"
      ]
     },
     "execution_count": 25,
     "metadata": {},
     "output_type": "execute_result"
    }
   ],
   "source": [
    "learn.predict(image)"
   ]
  },
  {
   "cell_type": "code",
   "execution_count": 26,
   "id": "d36d3827",
   "metadata": {
    "scrolled": true
   },
   "outputs": [],
   "source": [
    "#|export\n",
    "\n",
    "categories = ('Cat', 'Dog')\n",
    "\n",
    "\n",
    "labels = learn.dls.vocab\n",
    "def classify_image(img):\n",
    "    pred, idx, probs = learn.predict(image)\n",
    "    return {labels[i]: float(probs[i]) for i in range(len(labels))}"
   ]
  },
  {
   "cell_type": "code",
   "execution_count": 27,
   "id": "4a5585bd",
   "metadata": {},
   "outputs": [
    {
     "data": {
      "text/html": [
       "\n",
       "<style>\n",
       "    /* Turns off some styling */\n",
       "    progress {\n",
       "        /* gets rid of default border in Firefox and Opera. */\n",
       "        border: none;\n",
       "        /* Needs to be in here for Safari polyfill so background images work as expected. */\n",
       "        background-size: auto;\n",
       "    }\n",
       "    progress:not([value]), progress:not([value])::-webkit-progress-bar {\n",
       "        background: repeating-linear-gradient(45deg, #7e7e7e, #7e7e7e 10px, #5c5c5c 10px, #5c5c5c 20px);\n",
       "    }\n",
       "    .progress-bar-interrupted, .progress-bar-interrupted::-webkit-progress-bar {\n",
       "        background: #F44336;\n",
       "    }\n",
       "</style>\n"
      ],
      "text/plain": [
       "<IPython.core.display.HTML object>"
      ]
     },
     "metadata": {},
     "output_type": "display_data"
    },
    {
     "data": {
      "text/html": [],
      "text/plain": [
       "<IPython.core.display.HTML object>"
      ]
     },
     "metadata": {},
     "output_type": "display_data"
    },
    {
     "data": {
      "text/plain": [
       "{False: 3.203821390161606e-16, True: 1.0}"
      ]
     },
     "execution_count": 27,
     "metadata": {},
     "output_type": "execute_result"
    }
   ],
   "source": [
    "classify_image(image)"
   ]
  },
  {
   "cell_type": "code",
   "execution_count": 23,
   "id": "9eecf383",
   "metadata": {},
   "outputs": [
    {
     "name": "stderr",
     "output_type": "stream",
     "text": [
      "/home/charlesjavelona/mambaforge/envs/learn-fast/lib/python3.11/site-packages/gradio/inputs.py:257: UserWarning: Usage of gradio.inputs is deprecated, and will not be supported in the future, please import your component from gradio.components\n",
      "  warnings.warn(\n",
      "/home/charlesjavelona/mambaforge/envs/learn-fast/lib/python3.11/site-packages/gradio/deprecation.py:40: UserWarning: `optional` parameter is deprecated, and it has no effect\n",
      "  warnings.warn(value)\n",
      "/home/charlesjavelona/mambaforge/envs/learn-fast/lib/python3.11/site-packages/gradio/outputs.py:197: UserWarning: Usage of gradio.outputs is deprecated, and will not be supported in the future, please import your components from gradio.components\n",
      "  warnings.warn(\n",
      "/home/charlesjavelona/mambaforge/envs/learn-fast/lib/python3.11/site-packages/gradio/deprecation.py:40: UserWarning: The 'type' parameter has been deprecated. Use the Number component instead.\n",
      "  warnings.warn(value)\n"
     ]
    },
    {
     "name": "stdout",
     "output_type": "stream",
     "text": [
      "Running on local URL:  http://127.0.0.1:7862\n",
      "\n",
      "To create a public link, set `share=True` in `launch()`.\n"
     ]
    },
    {
     "data": {
      "text/plain": []
     },
     "execution_count": 23,
     "metadata": {},
     "output_type": "execute_result"
    },
    {
     "data": {
      "text/html": [
       "\n",
       "<style>\n",
       "    /* Turns off some styling */\n",
       "    progress {\n",
       "        /* gets rid of default border in Firefox and Opera. */\n",
       "        border: none;\n",
       "        /* Needs to be in here for Safari polyfill so background images work as expected. */\n",
       "        background-size: auto;\n",
       "    }\n",
       "    progress:not([value]), progress:not([value])::-webkit-progress-bar {\n",
       "        background: repeating-linear-gradient(45deg, #7e7e7e, #7e7e7e 10px, #5c5c5c 10px, #5c5c5c 20px);\n",
       "    }\n",
       "    .progress-bar-interrupted, .progress-bar-interrupted::-webkit-progress-bar {\n",
       "        background: #F44336;\n",
       "    }\n",
       "</style>\n"
      ],
      "text/plain": [
       "<IPython.core.display.HTML object>"
      ]
     },
     "metadata": {},
     "output_type": "display_data"
    },
    {
     "data": {
      "text/html": [],
      "text/plain": [
       "<IPython.core.display.HTML object>"
      ]
     },
     "metadata": {},
     "output_type": "display_data"
    },
    {
     "data": {
      "text/html": [
       "\n",
       "<style>\n",
       "    /* Turns off some styling */\n",
       "    progress {\n",
       "        /* gets rid of default border in Firefox and Opera. */\n",
       "        border: none;\n",
       "        /* Needs to be in here for Safari polyfill so background images work as expected. */\n",
       "        background-size: auto;\n",
       "    }\n",
       "    progress:not([value]), progress:not([value])::-webkit-progress-bar {\n",
       "        background: repeating-linear-gradient(45deg, #7e7e7e, #7e7e7e 10px, #5c5c5c 10px, #5c5c5c 20px);\n",
       "    }\n",
       "    .progress-bar-interrupted, .progress-bar-interrupted::-webkit-progress-bar {\n",
       "        background: #F44336;\n",
       "    }\n",
       "</style>\n"
      ],
      "text/plain": [
       "<IPython.core.display.HTML object>"
      ]
     },
     "metadata": {},
     "output_type": "display_data"
    },
    {
     "data": {
      "text/html": [],
      "text/plain": [
       "<IPython.core.display.HTML object>"
      ]
     },
     "metadata": {},
     "output_type": "display_data"
    },
    {
     "data": {
      "text/html": [
       "\n",
       "<style>\n",
       "    /* Turns off some styling */\n",
       "    progress {\n",
       "        /* gets rid of default border in Firefox and Opera. */\n",
       "        border: none;\n",
       "        /* Needs to be in here for Safari polyfill so background images work as expected. */\n",
       "        background-size: auto;\n",
       "    }\n",
       "    progress:not([value]), progress:not([value])::-webkit-progress-bar {\n",
       "        background: repeating-linear-gradient(45deg, #7e7e7e, #7e7e7e 10px, #5c5c5c 10px, #5c5c5c 20px);\n",
       "    }\n",
       "    .progress-bar-interrupted, .progress-bar-interrupted::-webkit-progress-bar {\n",
       "        background: #F44336;\n",
       "    }\n",
       "</style>\n"
      ],
      "text/plain": [
       "<IPython.core.display.HTML object>"
      ]
     },
     "metadata": {},
     "output_type": "display_data"
    },
    {
     "data": {
      "text/html": [],
      "text/plain": [
       "<IPython.core.display.HTML object>"
      ]
     },
     "metadata": {},
     "output_type": "display_data"
    },
    {
     "data": {
      "text/html": [
       "\n",
       "<style>\n",
       "    /* Turns off some styling */\n",
       "    progress {\n",
       "        /* gets rid of default border in Firefox and Opera. */\n",
       "        border: none;\n",
       "        /* Needs to be in here for Safari polyfill so background images work as expected. */\n",
       "        background-size: auto;\n",
       "    }\n",
       "    progress:not([value]), progress:not([value])::-webkit-progress-bar {\n",
       "        background: repeating-linear-gradient(45deg, #7e7e7e, #7e7e7e 10px, #5c5c5c 10px, #5c5c5c 20px);\n",
       "    }\n",
       "    .progress-bar-interrupted, .progress-bar-interrupted::-webkit-progress-bar {\n",
       "        background: #F44336;\n",
       "    }\n",
       "</style>\n"
      ],
      "text/plain": [
       "<IPython.core.display.HTML object>"
      ]
     },
     "metadata": {},
     "output_type": "display_data"
    },
    {
     "data": {
      "text/html": [],
      "text/plain": [
       "<IPython.core.display.HTML object>"
      ]
     },
     "metadata": {},
     "output_type": "display_data"
    },
    {
     "data": {
      "text/html": [
       "\n",
       "<style>\n",
       "    /* Turns off some styling */\n",
       "    progress {\n",
       "        /* gets rid of default border in Firefox and Opera. */\n",
       "        border: none;\n",
       "        /* Needs to be in here for Safari polyfill so background images work as expected. */\n",
       "        background-size: auto;\n",
       "    }\n",
       "    progress:not([value]), progress:not([value])::-webkit-progress-bar {\n",
       "        background: repeating-linear-gradient(45deg, #7e7e7e, #7e7e7e 10px, #5c5c5c 10px, #5c5c5c 20px);\n",
       "    }\n",
       "    .progress-bar-interrupted, .progress-bar-interrupted::-webkit-progress-bar {\n",
       "        background: #F44336;\n",
       "    }\n",
       "</style>\n"
      ],
      "text/plain": [
       "<IPython.core.display.HTML object>"
      ]
     },
     "metadata": {},
     "output_type": "display_data"
    },
    {
     "data": {
      "text/html": [],
      "text/plain": [
       "<IPython.core.display.HTML object>"
      ]
     },
     "metadata": {},
     "output_type": "display_data"
    }
   ],
   "source": [
    "#|export\n",
    "\n",
    "img = gr.inputs.Image((192, 192))\n",
    "label = gr.outputs.Label()\n",
    "examples = ['dog.jpg', 'cat.jpg', 'dunno.jpg']\n",
    "\n",
    "intf = gr.Interface(fn=classify_image, inputs=img, outputs=label, examples=examples)\n",
    "intf.launch(inline=False)"
   ]
  },
  {
   "cell_type": "code",
   "execution_count": 3,
   "id": "bc569a38",
   "metadata": {},
   "outputs": [
    {
     "ename": "ImportError",
     "evalue": "cannot import name 'notebook2script' from 'nbdev.export' (/home/charlesjavelona/mambaforge/envs/learn-fast/lib/python3.11/site-packages/nbdev/export.py)",
     "output_type": "error",
     "traceback": [
      "\u001b[0;31m---------------------------------------------------------------------------\u001b[0m",
      "\u001b[0;31mImportError\u001b[0m                               Traceback (most recent call last)",
      "Cell \u001b[0;32mIn[3], line 1\u001b[0m\n\u001b[0;32m----> 1\u001b[0m \u001b[38;5;28;01mfrom\u001b[39;00m \u001b[38;5;21;01mnbdev\u001b[39;00m\u001b[38;5;21;01m.\u001b[39;00m\u001b[38;5;21;01mexport\u001b[39;00m \u001b[38;5;28;01mimport\u001b[39;00m notebook2script\n",
      "\u001b[0;31mImportError\u001b[0m: cannot import name 'notebook2script' from 'nbdev.export' (/home/charlesjavelona/mambaforge/envs/learn-fast/lib/python3.11/site-packages/nbdev/export.py)"
     ]
    }
   ],
   "source": [
    "from nbdev.export import notebook2script"
   ]
  },
  {
   "cell_type": "code",
   "execution_count": 4,
   "id": "c8e1437d",
   "metadata": {},
   "outputs": [
    {
     "name": "stdout",
     "output_type": "stream",
     "text": [
      "Requirement already satisfied: nbdev in /home/charlesjavelona/mambaforge/envs/learn-fast/lib/python3.11/site-packages (2.2.10)\n",
      "Requirement already satisfied: fastcore>=1.5.24 in /home/charlesjavelona/mambaforge/envs/learn-fast/lib/python3.11/site-packages (from nbdev) (1.5.29)\n",
      "Requirement already satisfied: execnb>=0.1.2 in /home/charlesjavelona/mambaforge/envs/learn-fast/lib/python3.11/site-packages (from nbdev) (0.1.5)\n",
      "Requirement already satisfied: astunparse in /home/charlesjavelona/mambaforge/envs/learn-fast/lib/python3.11/site-packages (from nbdev) (1.6.3)\n",
      "Requirement already satisfied: ghapi>=1.0.2 in /home/charlesjavelona/mambaforge/envs/learn-fast/lib/python3.11/site-packages (from nbdev) (1.0.3)\n",
      "Requirement already satisfied: PyYAML in /home/charlesjavelona/mambaforge/envs/learn-fast/lib/python3.11/site-packages (from nbdev) (6.0)\n",
      "Requirement already satisfied: ipython in /home/charlesjavelona/mambaforge/envs/learn-fast/lib/python3.11/site-packages (from execnb>=0.1.2->nbdev) (8.12.0)\n",
      "Requirement already satisfied: pip in /home/charlesjavelona/mambaforge/envs/learn-fast/lib/python3.11/site-packages (from fastcore>=1.5.24->nbdev) (23.1)\n",
      "Requirement already satisfied: packaging in /home/charlesjavelona/mambaforge/envs/learn-fast/lib/python3.11/site-packages (from fastcore>=1.5.24->nbdev) (23.1)\n",
      "Requirement already satisfied: wheel<1.0,>=0.23.0 in /home/charlesjavelona/mambaforge/envs/learn-fast/lib/python3.11/site-packages (from astunparse->nbdev) (0.40.0)\n",
      "Requirement already satisfied: six<2.0,>=1.6.1 in /home/charlesjavelona/mambaforge/envs/learn-fast/lib/python3.11/site-packages (from astunparse->nbdev) (1.16.0)\n",
      "Requirement already satisfied: backcall in /home/charlesjavelona/mambaforge/envs/learn-fast/lib/python3.11/site-packages (from ipython->execnb>=0.1.2->nbdev) (0.2.0)\n",
      "Requirement already satisfied: decorator in /home/charlesjavelona/mambaforge/envs/learn-fast/lib/python3.11/site-packages (from ipython->execnb>=0.1.2->nbdev) (5.1.1)\n",
      "Requirement already satisfied: jedi>=0.16 in /home/charlesjavelona/mambaforge/envs/learn-fast/lib/python3.11/site-packages (from ipython->execnb>=0.1.2->nbdev) (0.18.2)\n",
      "Requirement already satisfied: matplotlib-inline in /home/charlesjavelona/mambaforge/envs/learn-fast/lib/python3.11/site-packages (from ipython->execnb>=0.1.2->nbdev) (0.1.6)\n",
      "Requirement already satisfied: pickleshare in /home/charlesjavelona/mambaforge/envs/learn-fast/lib/python3.11/site-packages (from ipython->execnb>=0.1.2->nbdev) (0.7.5)\n",
      "Requirement already satisfied: prompt-toolkit!=3.0.37,<3.1.0,>=3.0.30 in /home/charlesjavelona/mambaforge/envs/learn-fast/lib/python3.11/site-packages (from ipython->execnb>=0.1.2->nbdev) (3.0.38)\n",
      "Requirement already satisfied: pygments>=2.4.0 in /home/charlesjavelona/mambaforge/envs/learn-fast/lib/python3.11/site-packages (from ipython->execnb>=0.1.2->nbdev) (2.15.1)\n",
      "Requirement already satisfied: stack-data in /home/charlesjavelona/mambaforge/envs/learn-fast/lib/python3.11/site-packages (from ipython->execnb>=0.1.2->nbdev) (0.6.2)\n",
      "Requirement already satisfied: traitlets>=5 in /home/charlesjavelona/mambaforge/envs/learn-fast/lib/python3.11/site-packages (from ipython->execnb>=0.1.2->nbdev) (5.9.0)\n",
      "Requirement already satisfied: pexpect>4.3 in /home/charlesjavelona/mambaforge/envs/learn-fast/lib/python3.11/site-packages (from ipython->execnb>=0.1.2->nbdev) (4.8.0)\n",
      "Requirement already satisfied: parso<0.9.0,>=0.8.0 in /home/charlesjavelona/mambaforge/envs/learn-fast/lib/python3.11/site-packages (from jedi>=0.16->ipython->execnb>=0.1.2->nbdev) (0.8.3)\n",
      "Requirement already satisfied: ptyprocess>=0.5 in /home/charlesjavelona/mambaforge/envs/learn-fast/lib/python3.11/site-packages (from pexpect>4.3->ipython->execnb>=0.1.2->nbdev) (0.7.0)\n",
      "Requirement already satisfied: wcwidth in /home/charlesjavelona/mambaforge/envs/learn-fast/lib/python3.11/site-packages (from prompt-toolkit!=3.0.37,<3.1.0,>=3.0.30->ipython->execnb>=0.1.2->nbdev) (0.2.6)\n",
      "Requirement already satisfied: executing>=1.2.0 in /home/charlesjavelona/mambaforge/envs/learn-fast/lib/python3.11/site-packages (from stack-data->ipython->execnb>=0.1.2->nbdev) (1.2.0)\n",
      "Requirement already satisfied: asttokens>=2.1.0 in /home/charlesjavelona/mambaforge/envs/learn-fast/lib/python3.11/site-packages (from stack-data->ipython->execnb>=0.1.2->nbdev) (2.2.1)\n",
      "Requirement already satisfied: pure-eval in /home/charlesjavelona/mambaforge/envs/learn-fast/lib/python3.11/site-packages (from stack-data->ipython->execnb>=0.1.2->nbdev) (0.2.2)\n"
     ]
    }
   ],
   "source": [
    "!pip install nbdev"
   ]
  },
  {
   "cell_type": "code",
   "execution_count": 17,
   "id": "ff49404b",
   "metadata": {},
   "outputs": [
    {
     "name": "stdout",
     "output_type": "stream",
     "text": [
      "Requirement already satisfied: nbdev in /home/charlesjavelona/mambaforge/envs/learn-fast/lib/python3.11/site-packages (2.2.10)\n",
      "Collecting nbdev\n",
      "  Downloading nbdev-2.3.12-py3-none-any.whl (64 kB)\n",
      "\u001b[2K     \u001b[38;2;114;156;31m━━━━━━━━━━━━━━━━━━━━━━━━━━━━━━━━━━━━━━━━\u001b[0m \u001b[32m64.8/64.8 kB\u001b[0m \u001b[31m1.1 MB/s\u001b[0m eta \u001b[36m0:00:00\u001b[0m4 MB/s\u001b[0m eta \u001b[36m0:00:01\u001b[0m\n",
      "\u001b[?25hRequirement already satisfied: fastcore>=1.5.27 in /home/charlesjavelona/mambaforge/envs/learn-fast/lib/python3.11/site-packages (from nbdev) (1.5.29)\n",
      "Requirement already satisfied: execnb>=0.1.4 in /home/charlesjavelona/mambaforge/envs/learn-fast/lib/python3.11/site-packages (from nbdev) (0.1.5)\n",
      "Requirement already satisfied: astunparse in /home/charlesjavelona/mambaforge/envs/learn-fast/lib/python3.11/site-packages (from nbdev) (1.6.3)\n",
      "Requirement already satisfied: ghapi>=1.0.3 in /home/charlesjavelona/mambaforge/envs/learn-fast/lib/python3.11/site-packages (from nbdev) (1.0.3)\n",
      "Collecting watchdog (from nbdev)\n",
      "  Downloading watchdog-3.0.0-py3-none-manylinux2014_x86_64.whl (82 kB)\n",
      "\u001b[2K     \u001b[38;2;114;156;31m━━━━━━━━━━━━━━━━━━━━━━━━━━━━━━━━━━━━━━━━\u001b[0m \u001b[32m82.1/82.1 kB\u001b[0m \u001b[31m6.8 MB/s\u001b[0m eta \u001b[36m0:00:00\u001b[0m\n",
      "\u001b[?25hRequirement already satisfied: asttokens in /home/charlesjavelona/mambaforge/envs/learn-fast/lib/python3.11/site-packages (from nbdev) (2.2.1)\n",
      "Requirement already satisfied: PyYAML in /home/charlesjavelona/mambaforge/envs/learn-fast/lib/python3.11/site-packages (from nbdev) (6.0)\n",
      "Requirement already satisfied: ipython in /home/charlesjavelona/mambaforge/envs/learn-fast/lib/python3.11/site-packages (from execnb>=0.1.4->nbdev) (8.12.0)\n",
      "Requirement already satisfied: pip in /home/charlesjavelona/mambaforge/envs/learn-fast/lib/python3.11/site-packages (from fastcore>=1.5.27->nbdev) (23.1)\n",
      "Requirement already satisfied: packaging in /home/charlesjavelona/mambaforge/envs/learn-fast/lib/python3.11/site-packages (from fastcore>=1.5.27->nbdev) (23.1)\n",
      "Requirement already satisfied: six in /home/charlesjavelona/mambaforge/envs/learn-fast/lib/python3.11/site-packages (from asttokens->nbdev) (1.16.0)\n",
      "Requirement already satisfied: wheel<1.0,>=0.23.0 in /home/charlesjavelona/mambaforge/envs/learn-fast/lib/python3.11/site-packages (from astunparse->nbdev) (0.40.0)\n",
      "Requirement already satisfied: backcall in /home/charlesjavelona/mambaforge/envs/learn-fast/lib/python3.11/site-packages (from ipython->execnb>=0.1.4->nbdev) (0.2.0)\n",
      "Requirement already satisfied: decorator in /home/charlesjavelona/mambaforge/envs/learn-fast/lib/python3.11/site-packages (from ipython->execnb>=0.1.4->nbdev) (5.1.1)\n",
      "Requirement already satisfied: jedi>=0.16 in /home/charlesjavelona/mambaforge/envs/learn-fast/lib/python3.11/site-packages (from ipython->execnb>=0.1.4->nbdev) (0.18.2)\n",
      "Requirement already satisfied: matplotlib-inline in /home/charlesjavelona/mambaforge/envs/learn-fast/lib/python3.11/site-packages (from ipython->execnb>=0.1.4->nbdev) (0.1.6)\n",
      "Requirement already satisfied: pickleshare in /home/charlesjavelona/mambaforge/envs/learn-fast/lib/python3.11/site-packages (from ipython->execnb>=0.1.4->nbdev) (0.7.5)\n",
      "Requirement already satisfied: prompt-toolkit!=3.0.37,<3.1.0,>=3.0.30 in /home/charlesjavelona/mambaforge/envs/learn-fast/lib/python3.11/site-packages (from ipython->execnb>=0.1.4->nbdev) (3.0.38)\n",
      "Requirement already satisfied: pygments>=2.4.0 in /home/charlesjavelona/mambaforge/envs/learn-fast/lib/python3.11/site-packages (from ipython->execnb>=0.1.4->nbdev) (2.15.1)\n",
      "Requirement already satisfied: stack-data in /home/charlesjavelona/mambaforge/envs/learn-fast/lib/python3.11/site-packages (from ipython->execnb>=0.1.4->nbdev) (0.6.2)\n",
      "Requirement already satisfied: traitlets>=5 in /home/charlesjavelona/mambaforge/envs/learn-fast/lib/python3.11/site-packages (from ipython->execnb>=0.1.4->nbdev) (5.9.0)\n",
      "Requirement already satisfied: pexpect>4.3 in /home/charlesjavelona/mambaforge/envs/learn-fast/lib/python3.11/site-packages (from ipython->execnb>=0.1.4->nbdev) (4.8.0)\n",
      "Requirement already satisfied: parso<0.9.0,>=0.8.0 in /home/charlesjavelona/mambaforge/envs/learn-fast/lib/python3.11/site-packages (from jedi>=0.16->ipython->execnb>=0.1.4->nbdev) (0.8.3)\n",
      "Requirement already satisfied: ptyprocess>=0.5 in /home/charlesjavelona/mambaforge/envs/learn-fast/lib/python3.11/site-packages (from pexpect>4.3->ipython->execnb>=0.1.4->nbdev) (0.7.0)\n",
      "Requirement already satisfied: wcwidth in /home/charlesjavelona/mambaforge/envs/learn-fast/lib/python3.11/site-packages (from prompt-toolkit!=3.0.37,<3.1.0,>=3.0.30->ipython->execnb>=0.1.4->nbdev) (0.2.6)\n",
      "Requirement already satisfied: executing>=1.2.0 in /home/charlesjavelona/mambaforge/envs/learn-fast/lib/python3.11/site-packages (from stack-data->ipython->execnb>=0.1.4->nbdev) (1.2.0)\n",
      "Requirement already satisfied: pure-eval in /home/charlesjavelona/mambaforge/envs/learn-fast/lib/python3.11/site-packages (from stack-data->ipython->execnb>=0.1.4->nbdev) (0.2.2)\n",
      "Installing collected packages: watchdog, nbdev\n",
      "  Attempting uninstall: nbdev\n",
      "    Found existing installation: nbdev 2.2.10\n",
      "    Uninstalling nbdev-2.2.10:\n",
      "      Successfully uninstalled nbdev-2.2.10\n",
      "Successfully installed nbdev-2.3.12 watchdog-3.0.0\n"
     ]
    }
   ],
   "source": [
    "!pip install nbdev --upgrade\n"
   ]
  },
  {
   "cell_type": "code",
   "execution_count": 3,
   "id": "30af1a9c",
   "metadata": {},
   "outputs": [
    {
     "ename": "ImportError",
     "evalue": "cannot import name 'nbdev_convert_nbs_to_md' from 'nbdev.cli' (/home/charlesjavelona/mambaforge/envs/learn-fast/lib/python3.11/site-packages/nbdev/cli.py)",
     "output_type": "error",
     "traceback": [
      "\u001b[0;31m---------------------------------------------------------------------------\u001b[0m",
      "\u001b[0;31mImportError\u001b[0m                               Traceback (most recent call last)",
      "Cell \u001b[0;32mIn[3], line 1\u001b[0m\n\u001b[0;32m----> 1\u001b[0m \u001b[38;5;28;01mfrom\u001b[39;00m \u001b[38;5;21;01mnbdev\u001b[39;00m\u001b[38;5;21;01m.\u001b[39;00m\u001b[38;5;21;01mcli\u001b[39;00m \u001b[38;5;28;01mimport\u001b[39;00m nbdev_convert_nbs_to_md\n",
      "\u001b[0;31mImportError\u001b[0m: cannot import name 'nbdev_convert_nbs_to_md' from 'nbdev.cli' (/home/charlesjavelona/mambaforge/envs/learn-fast/lib/python3.11/site-packages/nbdev/cli.py)"
     ]
    }
   ],
   "source": [
    "from nbdev.cli import nbdev_convert_nbs_to_md\n"
   ]
  },
  {
   "cell_type": "code",
   "execution_count": 2,
   "id": "5f3acfb4",
   "metadata": {},
   "outputs": [
    {
     "ename": "NameError",
     "evalue": "name 'notebook2script' is not defined",
     "output_type": "error",
     "traceback": [
      "\u001b[0;31m---------------------------------------------------------------------------\u001b[0m",
      "\u001b[0;31mNameError\u001b[0m                                 Traceback (most recent call last)",
      "Cell \u001b[0;32mIn[2], line 1\u001b[0m\n\u001b[0;32m----> 1\u001b[0m \u001b[43mnotebook2script\u001b[49m()\n",
      "\u001b[0;31mNameError\u001b[0m: name 'notebook2script' is not defined"
     ]
    }
   ],
   "source": [
    "notebook2script()"
   ]
  },
  {
   "cell_type": "code",
   "execution_count": null,
   "id": "35ff80f3",
   "metadata": {},
   "outputs": [],
   "source": [
    "nb"
   ]
  }
 ],
 "metadata": {
  "kernelspec": {
   "display_name": "Python 3 (ipykernel)",
   "language": "python",
   "name": "python3"
  },
  "language_info": {
   "codemirror_mode": {
    "name": "ipython",
    "version": 3
   },
   "file_extension": ".py",
   "mimetype": "text/x-python",
   "name": "python",
   "nbconvert_exporter": "python",
   "pygments_lexer": "ipython3",
   "version": "3.11.3"
  }
 },
 "nbformat": 4,
 "nbformat_minor": 5
}
